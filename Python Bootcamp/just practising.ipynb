{
 "cells": [
  {
   "cell_type": "code",
   "execution_count": 1,
   "metadata": {
    "collapsed": true
   },
   "outputs": [],
   "source": [
    "List_Of_Suits = [\"Hearts\", \"Diamonds\", \"Clubs\", \"Spades\"]\n",
    "List_Of_Ranks = [\"2\", \"3\", \"4\", \"5\", \"6\", \"7\", \"8\", \"9\", \"10\", \"J\", \"D\", \"K\", \"A\"]"
   ]
  },
  {
   "cell_type": "code",
   "execution_count": 6,
   "metadata": {},
   "outputs": [
    {
     "name": "stdout",
     "output_type": "stream",
     "text": [
      "[[['Spades', 'K', [10]], ['Spades', '8', [8]], ['Diamonds', '4', [4]], ['Hearts', '8', [8]], ['Clubs', '7', [7]], ['Clubs', 'A', [1, 11]], ['Clubs', 'K', [10]], ['Clubs', 'D', [10]], ['Hearts', 'J', [10]], ['Diamonds', '2', [2]], ['Hearts', '6', [6]], ['Clubs', '5', [5]], ['Spades', '10', [10]], ['Clubs', '3', [3]], ['Diamonds', '8', [8]], ['Hearts', '5', [5]], ['Spades', '9', [9]], ['Diamonds', 'J', [10]], ['Diamonds', 'A', [1, 11]], ['Hearts', '10', [10]], ['Spades', '2', [2]], ['Clubs', '10', [10]], ['Clubs', '8', [8]], ['Diamonds', 'D', [10]], ['Hearts', '7', [7]], ['Diamonds', '9', [9]], ['Diamonds', '7', [7]], ['Hearts', '2', [2]], ['Diamonds', '10', [10]], ['Clubs', '6', [6]], ['Spades', '4', [4]], ['Diamonds', '5', [5]], ['Clubs', '4', [4]], ['Clubs', '2', [2]], ['Diamonds', 'K', [10]], ['Spades', '6', [6]], ['Diamonds', '3', [3]], ['Hearts', 'K', [10]], ['Hearts', '4', [4]], ['Hearts', 'A', [1, 11]], ['Diamonds', '6', [6]], ['Spades', '7', [7]], ['Spades', 'D', [10]], ['Spades', '5', [5]], ['Hearts', '9', [9]], ['Hearts', 'D', [10]], ['Hearts', '3', [3]], ['Spades', '3', [3]], ['Spades', 'J', [10]], ['Spades', 'A', [1, 11]], ['Clubs', 'J', [10]], ['Clubs', '9', [9]]]]\n"
     ]
    }
   ],
   "source": [
    "from random import shuffle\n",
    "deck = []\n",
    "for suit in List_Of_Suits:\n",
    "    for rank in List_Of_Ranks:\n",
    "        try:\n",
    "            value = [int(rank)]\n",
    "        except:\n",
    "            if rank == \"A\":\n",
    "                value = [1, 11]\n",
    "            else:\n",
    "                value = [10]\n",
    "        card = [suit, rank, value]\n",
    "        deck.append(card)\n",
    "        shuffle(deck)\n",
    "print([deck])"
   ]
  },
  {
   "cell_type": "code",
   "execution_count": 29,
   "metadata": {
    "collapsed": true
   },
   "outputs": [],
   "source": [
    "l = [1, 2, 3, 6, 7]\n",
    "def popujemy():\n",
    "    return l.pop()\n",
    "\n",
    "    "
   ]
  },
  {
   "cell_type": "code",
   "execution_count": 31,
   "metadata": {},
   "outputs": [
    {
     "name": "stdout",
     "output_type": "stream",
     "text": [
      "7\n"
     ]
    }
   ],
   "source": [
    "print (popujemy())"
   ]
  },
  {
   "cell_type": "code",
   "execution_count": 32,
   "metadata": {},
   "outputs": [
    {
     "data": {
      "text/plain": [
       "[1, 2, 3, 6]"
      ]
     },
     "execution_count": 32,
     "metadata": {},
     "output_type": "execute_result"
    }
   ],
   "source": [
    "l"
   ]
  },
  {
   "cell_type": "code",
   "execution_count": 33,
   "metadata": {},
   "outputs": [
    {
     "name": "stdout",
     "output_type": "stream",
     "text": [
      "6\n"
     ]
    }
   ],
   "source": [
    "print (popujemy())"
   ]
  },
  {
   "cell_type": "code",
   "execution_count": 34,
   "metadata": {},
   "outputs": [
    {
     "data": {
      "text/plain": [
       "[1, 2, 3]"
      ]
     },
     "execution_count": 34,
     "metadata": {},
     "output_type": "execute_result"
    }
   ],
   "source": [
    "l"
   ]
  },
  {
   "cell_type": "code",
   "execution_count": 14,
   "metadata": {},
   "outputs": [
    {
     "data": {
      "text/plain": [
       "7"
      ]
     },
     "execution_count": 14,
     "metadata": {},
     "output_type": "execute_result"
    }
   ],
   "source": [
    "print popujemy()"
   ]
  },
  {
   "cell_type": "code",
   "execution_count": 36,
   "metadata": {},
   "outputs": [
    {
     "name": "stdout",
     "output_type": "stream",
     "text": [
      "Choose one: a, b, c or d e\n"
     ]
    },
    {
     "ename": "SyntaxError",
     "evalue": "'continue' not properly in loop (<ipython-input-36-7d8256100256>, line 12)",
     "output_type": "error",
     "traceback": [
      "\u001b[0;36m  File \u001b[0;32m\"<ipython-input-36-7d8256100256>\"\u001b[0;36m, line \u001b[0;32m12\u001b[0m\n\u001b[0;31m    continue\u001b[0m\n\u001b[0m    ^\u001b[0m\n\u001b[0;31mSyntaxError\u001b[0m\u001b[0;31m:\u001b[0m 'continue' not properly in loop\n"
     ]
    }
   ],
   "source": [
    "decision = input(\"Choose one: a, b, c or d \")\n",
    "if decision == \"a\":\n",
    "    pass\n",
    "elif decision == \"b\":\n",
    "    Player.set_name()\n",
    "elif decision == \"c\":\n",
    "    pass\n",
    "elif decision == \"d\":\n",
    "    self.finish_game()\n",
    "else:\n",
    "    decision = input(\"You should write a, b, c or d \")\n",
    "    continue\n",
    "        "
   ]
  },
  {
   "cell_type": "code",
   "execution_count": null,
   "metadata": {
    "collapsed": true
   },
   "outputs": [],
   "source": []
  }
 ],
 "metadata": {
  "kernelspec": {
   "display_name": "Python 3",
   "language": "python",
   "name": "python3"
  },
  "language_info": {
   "codemirror_mode": {
    "name": "ipython",
    "version": 3
   },
   "file_extension": ".py",
   "mimetype": "text/x-python",
   "name": "python",
   "nbconvert_exporter": "python",
   "pygments_lexer": "ipython3",
   "version": "3.5.3"
  }
 },
 "nbformat": 4,
 "nbformat_minor": 2
}
